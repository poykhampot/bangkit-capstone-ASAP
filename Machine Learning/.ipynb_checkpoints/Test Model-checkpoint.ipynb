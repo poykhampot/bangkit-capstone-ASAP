{
 "cells": [
  {
   "cell_type": "code",
   "execution_count": 1,
   "metadata": {},
   "outputs": [],
   "source": [
    "import numpy as np\n",
    "import tensorflow as tf\n",
    "import matplotlib.pyplot as plt\n",
    "import matplotlib.image as mpimg\n",
    "from tensorflow.keras.preprocessing import image\n",
    "import os"
   ]
  },
  {
   "cell_type": "markdown",
   "metadata": {},
   "source": [
    "### Load Model from weights"
   ]
  },
  {
   "cell_type": "code",
   "execution_count": 2,
   "metadata": {},
   "outputs": [],
   "source": [
    "IMAGE_SHAPE = (224,224,3)"
   ]
  },
  {
   "cell_type": "code",
   "execution_count": 3,
   "metadata": {},
   "outputs": [],
   "source": [
    "model = tf.keras.models.load_model('model_transfer.h5')\n"
   ]
  },
  {
   "cell_type": "markdown",
   "metadata": {},
   "source": [
    "### Detect with test data"
   ]
  },
  {
   "cell_type": "code",
   "execution_count": 11,
   "metadata": {},
   "outputs": [],
   "source": [
    "def detect_image(image_dir, name_file):\n",
    "    img = image.load_img(image_dir, target_size=(224,224))\n",
    "    #imgplot = plt.imshow(img)\n",
    "    x = image.img_to_array(img) \n",
    "    x = np.expand_dims(x, axis=0)\n",
    "    \n",
    "    class_detect = 'None'\n",
    "    \n",
    "    threshold = 0.6\n",
    "    images = np.vstack([x])\n",
    "    classes = model.predict(images, batch_size=10)\n",
    "    result = np.argmax(classes)\n",
    "    confident = classes[0][result]\n",
    "    \n",
    "    if threshold < confident:\n",
    "        if result == 0:\n",
    "            class_detect = 'fire'\n",
    "        else:\n",
    "            class_detect = 'Smoke'\n",
    "\n",
    "    print('{} detected as {} with confident score = {}'.format(name_file, class_detect, confident))\n"
   ]
  },
  {
   "cell_type": "code",
   "execution_count": 12,
   "metadata": {},
   "outputs": [
    {
     "name": "stdout",
     "output_type": "stream",
     "text": [
      "fire.jpg detected as fire with confident score = 0.9307780265808105\n",
      "fire2.jpg detected as fire with confident score = 0.9875051975250244\n",
      "fire3.jpg detected as Smoke with confident score = 0.743914008140564\n",
      "fire4.jpg detected as Smoke with confident score = 0.8429162502288818\n",
      "fire5.jpg detected as fire with confident score = 0.9525253772735596\n",
      "smoke.jpg detected as Smoke with confident score = 0.6671893000602722\n",
      "smoke2.jpg detected as fire with confident score = 0.8811296224594116\n",
      "smoke3.jpg detected as Smoke with confident score = 0.9571495652198792\n",
      "smoke4.jpg detected as None with confident score = 0.5033536553382874\n",
      "smoke5.jpg detected as Smoke with confident score = 0.6567634344100952\n"
     ]
    }
   ],
   "source": [
    "list_test = os.listdir('test data/')\n",
    "for file in list_test:\n",
    "    detect_image('test data/'+file, file)"
   ]
  },
  {
   "cell_type": "markdown",
   "metadata": {},
   "source": [
    "### Test with video"
   ]
  },
  {
   "cell_type": "code",
   "execution_count": 13,
   "metadata": {},
   "outputs": [
    {
     "name": "stdout",
     "output_type": "stream",
     "text": [
      "Requirement already satisfied: opencv-python in c:\\users\\thor\\anaconda3\\lib\\site-packages (4.5.2.52)\n",
      "Requirement already satisfied: numpy>=1.17.3 in c:\\users\\thor\\anaconda3\\lib\\site-packages (from opencv-python) (1.19.2)\n"
     ]
    }
   ],
   "source": [
    "!pip install opencv-python"
   ]
  },
  {
   "cell_type": "code",
   "execution_count": 21,
   "metadata": {},
   "outputs": [],
   "source": [
    "import cv2\n",
    "\n",
    "src = cv2.VideoCapture('video.mp4')\n",
    "color_dict={0:(0,255,0),1:(0,0,255)}\n",
    "class_detect = 'None'\n",
    "threshold = 0.7\n",
    "font = cv2.FONT_HERSHEY_SIMPLEX\n",
    "while(True):\n",
    "    ret,frame = src.read()\n",
    "    \n",
    "    img = cv2.resize(frame,(224,224))     \n",
    "    img = img.reshape(1,224,224,3)\n",
    "    \n",
    "    images = np.vstack([img])\n",
    "    \n",
    "    classes = model.predict(images, batch_size=10)\n",
    "    result = np.argmax(classes)\n",
    "    confident = classes[0][result]\n",
    "    \n",
    "    if threshold < confident:\n",
    "        if result == 0:\n",
    "            class_detect = 'fire'\n",
    "        else:\n",
    "            class_detect = 'Smoke'\n",
    "    else:\n",
    "        class_detect = ''\n",
    "        \n",
    "    cv2.putText(frame, \n",
    "                class_detect, \n",
    "                (50, 50), \n",
    "                font, 1, \n",
    "                (0, 255, 255), \n",
    "                2, \n",
    "                cv2.LINE_4)\n",
    "\n",
    "    cv2.imshow(\"LIVE\", frame)\n",
    "    key =cv2.waitKey(1)\n",
    "\n",
    "    if(key==27):\n",
    "        break\n",
    "\n",
    "cv2.destroyAllWindows()\n",
    "src.release()"
   ]
  },
  {
   "cell_type": "code",
   "execution_count": null,
   "metadata": {},
   "outputs": [],
   "source": []
  },
  {
   "cell_type": "code",
   "execution_count": null,
   "metadata": {},
   "outputs": [],
   "source": []
  }
 ],
 "metadata": {
  "kernelspec": {
   "display_name": "Python 3",
   "language": "python",
   "name": "python3"
  },
  "language_info": {
   "codemirror_mode": {
    "name": "ipython",
    "version": 3
   },
   "file_extension": ".py",
   "mimetype": "text/x-python",
   "name": "python",
   "nbconvert_exporter": "python",
   "pygments_lexer": "ipython3",
   "version": "3.8.5"
  }
 },
 "nbformat": 4,
 "nbformat_minor": 4
}
